{
 "cells": [
  {
   "attachments": {},
   "cell_type": "markdown",
   "metadata": {},
   "source": [
    "# Getting Started with RedisVL\n",
    "\n",
    "RedisVL is a Python library with a dedicated CLI to help load and create vector search indices within Redis. While \n",
    "\n",
    "This notebook will walk through\n",
    "1. Vectors 101\n",
    "2. Preparing a dataset with vectors.\n",
    "3. Writing data schema for ``redis``\n",
    "4. Loading the data and creating a vector search index\n",
    "5. Performing queries\n",
    "\n",
    "Before running this notebook, be sure to\n",
    "1. Have installed ``redisvl`` and have that environment active for this notebook.\n",
    "2. Have a running Redis instance with RediSearch > 2.4 running."
   ]
  },
  {
   "cell_type": "markdown",
   "metadata": {},
   "source": [
    "# Install requirements"
   ]
  },
  {
   "cell_type": "code",
   "execution_count": 5,
   "metadata": {},
   "outputs": [
    {
     "name": "stdout",
     "output_type": "stream",
     "text": [
      "Requirement already satisfied: redisvl[all] in /Users/tyler.hutcherson/Documents/RedisVentures/redisvl (from -r requirements.txt (line 1)) (0.0.3)\n",
      "Requirement already satisfied: jupyterhub in /Users/tyler.hutcherson/miniconda3/lib/python3.9/site-packages (from -r requirements.txt (line 2)) (4.0.2)\n",
      "Requirement already satisfied: ipykernel in /Users/tyler.hutcherson/miniconda3/lib/python3.9/site-packages (from -r requirements.txt (line 3)) (6.16.0)\n",
      "Requirement already satisfied: numpy in /Users/tyler.hutcherson/miniconda3/lib/python3.9/site-packages (from -r requirements.txt (line 4)) (1.24.2)\n",
      "Requirement already satisfied: redis>=4.3.4 in /Users/tyler.hutcherson/miniconda3/lib/python3.9/site-packages (from redisvl[all]->-r requirements.txt (line 1)) (5.0.0)\n",
      "Requirement already satisfied: pyyaml in /Users/tyler.hutcherson/miniconda3/lib/python3.9/site-packages (from redisvl[all]->-r requirements.txt (line 1)) (6.0)\n",
      "Requirement already satisfied: coloredlogs in /Users/tyler.hutcherson/miniconda3/lib/python3.9/site-packages (from redisvl[all]->-r requirements.txt (line 1)) (15.0.1)\n",
      "Requirement already satisfied: pydantic<2.0.0 in /Users/tyler.hutcherson/miniconda3/lib/python3.9/site-packages (from redisvl[all]->-r requirements.txt (line 1)) (1.10.12)\n",
      "Requirement already satisfied: tenacity==8.2.2 in /Users/tyler.hutcherson/miniconda3/lib/python3.9/site-packages (from redisvl[all]->-r requirements.txt (line 1)) (8.2.2)\n",
      "Requirement already satisfied: tabulate==0.9.0 in /Users/tyler.hutcherson/miniconda3/lib/python3.9/site-packages (from redisvl[all]->-r requirements.txt (line 1)) (0.9.0)\n",
      "Requirement already satisfied: openai>=0.26.4 in /Users/tyler.hutcherson/miniconda3/lib/python3.9/site-packages (from redisvl[all]->-r requirements.txt (line 1)) (0.27.2)\n",
      "Requirement already satisfied: sentence-transformers>=2.2.2 in /Users/tyler.hutcherson/miniconda3/lib/python3.9/site-packages (from redisvl[all]->-r requirements.txt (line 1)) (2.2.2)\n",
      "Requirement already satisfied: google-cloud-aiplatform>=1.26 in /Users/tyler.hutcherson/miniconda3/lib/python3.9/site-packages (from redisvl[all]->-r requirements.txt (line 1)) (1.28.0)\n",
      "Requirement already satisfied: jinja2>=2.11.0 in /Users/tyler.hutcherson/miniconda3/lib/python3.9/site-packages (from jupyterhub->-r requirements.txt (line 2)) (3.1.2)\n",
      "Requirement already satisfied: requests in /Users/tyler.hutcherson/miniconda3/lib/python3.9/site-packages (from jupyterhub->-r requirements.txt (line 2)) (2.28.1)\n",
      "Requirement already satisfied: async-generator>=1.9 in /Users/tyler.hutcherson/miniconda3/lib/python3.9/site-packages (from jupyterhub->-r requirements.txt (line 2)) (1.10)\n",
      "Requirement already satisfied: oauthlib>=3.0 in /Users/tyler.hutcherson/miniconda3/lib/python3.9/site-packages (from jupyterhub->-r requirements.txt (line 2)) (3.2.2)\n",
      "Requirement already satisfied: pamela in /Users/tyler.hutcherson/miniconda3/lib/python3.9/site-packages (from jupyterhub->-r requirements.txt (line 2)) (1.1.0)\n",
      "Requirement already satisfied: traitlets>=4.3.2 in /Users/tyler.hutcherson/miniconda3/lib/python3.9/site-packages (from jupyterhub->-r requirements.txt (line 2)) (5.9.0)\n",
      "Requirement already satisfied: jupyter-telemetry>=0.1.0 in /Users/tyler.hutcherson/miniconda3/lib/python3.9/site-packages (from jupyterhub->-r requirements.txt (line 2)) (0.1.0)\n",
      "Requirement already satisfied: python-dateutil in /Users/tyler.hutcherson/miniconda3/lib/python3.9/site-packages (from jupyterhub->-r requirements.txt (line 2)) (2.8.2)\n",
      "Requirement already satisfied: importlib-metadata>=3.6 in /Users/tyler.hutcherson/miniconda3/lib/python3.9/site-packages (from jupyterhub->-r requirements.txt (line 2)) (6.8.0)\n",
      "Requirement already satisfied: prometheus-client>=0.4.0 in /Users/tyler.hutcherson/miniconda3/lib/python3.9/site-packages (from jupyterhub->-r requirements.txt (line 2)) (0.15.0)\n",
      "Requirement already satisfied: SQLAlchemy>=1.4 in /Users/tyler.hutcherson/miniconda3/lib/python3.9/site-packages (from jupyterhub->-r requirements.txt (line 2)) (1.4.42)\n",
      "Requirement already satisfied: certipy>=0.1.2 in /Users/tyler.hutcherson/miniconda3/lib/python3.9/site-packages (from jupyterhub->-r requirements.txt (line 2)) (0.1.3)\n",
      "Requirement already satisfied: tornado>=5.1 in /Users/tyler.hutcherson/miniconda3/lib/python3.9/site-packages (from jupyterhub->-r requirements.txt (line 2)) (6.2)\n",
      "Requirement already satisfied: packaging in /Users/tyler.hutcherson/miniconda3/lib/python3.9/site-packages (from jupyterhub->-r requirements.txt (line 2)) (21.3)\n",
      "Requirement already satisfied: alembic>=1.4 in /Users/tyler.hutcherson/miniconda3/lib/python3.9/site-packages (from jupyterhub->-r requirements.txt (line 2)) (1.8.1)\n",
      "Requirement already satisfied: nest-asyncio in /Users/tyler.hutcherson/miniconda3/lib/python3.9/site-packages (from ipykernel->-r requirements.txt (line 3)) (1.5.5)\n",
      "Requirement already satisfied: pyzmq>=17 in /Users/tyler.hutcherson/miniconda3/lib/python3.9/site-packages (from ipykernel->-r requirements.txt (line 3)) (19.0.2)\n",
      "Requirement already satisfied: debugpy>=1.0 in /Users/tyler.hutcherson/miniconda3/lib/python3.9/site-packages (from ipykernel->-r requirements.txt (line 3)) (1.6.3)\n",
      "Requirement already satisfied: jupyter-client>=6.1.12 in /Users/tyler.hutcherson/miniconda3/lib/python3.9/site-packages (from ipykernel->-r requirements.txt (line 3)) (7.0.6)\n",
      "Requirement already satisfied: matplotlib-inline>=0.1 in /Users/tyler.hutcherson/miniconda3/lib/python3.9/site-packages (from ipykernel->-r requirements.txt (line 3)) (0.1.6)\n",
      "Requirement already satisfied: appnope in /Users/tyler.hutcherson/miniconda3/lib/python3.9/site-packages (from ipykernel->-r requirements.txt (line 3)) (0.1.3)\n",
      "Requirement already satisfied: psutil in /Users/tyler.hutcherson/miniconda3/lib/python3.9/site-packages (from ipykernel->-r requirements.txt (line 3)) (5.9.2)\n",
      "Requirement already satisfied: ipython>=7.23.1 in /Users/tyler.hutcherson/miniconda3/lib/python3.9/site-packages (from ipykernel->-r requirements.txt (line 3)) (7.34.0)\n",
      "Requirement already satisfied: Mako in /Users/tyler.hutcherson/miniconda3/lib/python3.9/site-packages (from alembic>=1.4->jupyterhub->-r requirements.txt (line 2)) (1.2.3)\n",
      "Requirement already satisfied: pyopenssl in /Users/tyler.hutcherson/miniconda3/lib/python3.9/site-packages (from certipy>=0.1.2->jupyterhub->-r requirements.txt (line 2)) (22.0.0)\n",
      "Requirement already satisfied: google-cloud-resource-manager<3.0.0dev,>=1.3.3 in /Users/tyler.hutcherson/miniconda3/lib/python3.9/site-packages (from google-cloud-aiplatform>=1.26->redisvl[all]->-r requirements.txt (line 1)) (1.6.3)\n",
      "Requirement already satisfied: google-api-core[grpc]!=2.0.*,!=2.1.*,!=2.2.*,!=2.3.*,!=2.4.*,!=2.5.*,!=2.6.*,!=2.7.*,<3.0.0dev,>=1.32.0 in /Users/tyler.hutcherson/miniconda3/lib/python3.9/site-packages (from google-cloud-aiplatform>=1.26->redisvl[all]->-r requirements.txt (line 1)) (2.10.2)\n",
      "Requirement already satisfied: protobuf!=3.20.0,!=3.20.1,!=4.21.0,!=4.21.1,!=4.21.2,!=4.21.3,!=4.21.4,!=4.21.5,<5.0.0dev,>=3.19.5 in /Users/tyler.hutcherson/miniconda3/lib/python3.9/site-packages (from google-cloud-aiplatform>=1.26->redisvl[all]->-r requirements.txt (line 1)) (3.19.6)\n",
      "Requirement already satisfied: shapely<2.0.0 in /Users/tyler.hutcherson/miniconda3/lib/python3.9/site-packages (from google-cloud-aiplatform>=1.26->redisvl[all]->-r requirements.txt (line 1)) (1.8.5.post1)\n",
      "Requirement already satisfied: google-cloud-storage<3.0.0dev,>=1.32.0 in /Users/tyler.hutcherson/miniconda3/lib/python3.9/site-packages (from google-cloud-aiplatform>=1.26->redisvl[all]->-r requirements.txt (line 1)) (1.40.0)\n",
      "Requirement already satisfied: proto-plus<2.0.0dev,>=1.22.0 in /Users/tyler.hutcherson/miniconda3/lib/python3.9/site-packages (from google-cloud-aiplatform>=1.26->redisvl[all]->-r requirements.txt (line 1)) (1.22.3)\n",
      "Requirement already satisfied: google-cloud-bigquery<4.0.0dev,>=1.15.0 in /Users/tyler.hutcherson/miniconda3/lib/python3.9/site-packages (from google-cloud-aiplatform>=1.26->redisvl[all]->-r requirements.txt (line 1)) (2.34.4)\n",
      "Requirement already satisfied: googleapis-common-protos<2.0dev,>=1.56.2 in /Users/tyler.hutcherson/miniconda3/lib/python3.9/site-packages (from google-api-core[grpc]!=2.0.*,!=2.1.*,!=2.2.*,!=2.3.*,!=2.4.*,!=2.5.*,!=2.6.*,!=2.7.*,<3.0.0dev,>=1.32.0->google-cloud-aiplatform>=1.26->redisvl[all]->-r requirements.txt (line 1)) (1.56.4)\n",
      "Requirement already satisfied: google-auth<3.0dev,>=1.25.0 in /Users/tyler.hutcherson/miniconda3/lib/python3.9/site-packages (from google-api-core[grpc]!=2.0.*,!=2.1.*,!=2.2.*,!=2.3.*,!=2.4.*,!=2.5.*,!=2.6.*,!=2.7.*,<3.0.0dev,>=1.32.0->google-cloud-aiplatform>=1.26->redisvl[all]->-r requirements.txt (line 1)) (1.35.0)\n",
      "Requirement already satisfied: grpcio-status<2.0dev,>=1.33.2 in /Users/tyler.hutcherson/miniconda3/lib/python3.9/site-packages (from google-api-core[grpc]!=2.0.*,!=2.1.*,!=2.2.*,!=2.3.*,!=2.4.*,!=2.5.*,!=2.6.*,!=2.7.*,<3.0.0dev,>=1.32.0->google-cloud-aiplatform>=1.26->redisvl[all]->-r requirements.txt (line 1)) (1.48.2)\n",
      "Requirement already satisfied: grpcio<2.0dev,>=1.33.2 in /Users/tyler.hutcherson/miniconda3/lib/python3.9/site-packages (from google-api-core[grpc]!=2.0.*,!=2.1.*,!=2.2.*,!=2.3.*,!=2.4.*,!=2.5.*,!=2.6.*,!=2.7.*,<3.0.0dev,>=1.32.0->google-cloud-aiplatform>=1.26->redisvl[all]->-r requirements.txt (line 1)) (1.50.0)\n",
      "Requirement already satisfied: six>=1.9.0 in /Users/tyler.hutcherson/miniconda3/lib/python3.9/site-packages (from google-auth<3.0dev,>=1.25.0->google-api-core[grpc]!=2.0.*,!=2.1.*,!=2.2.*,!=2.3.*,!=2.4.*,!=2.5.*,!=2.6.*,!=2.7.*,<3.0.0dev,>=1.32.0->google-cloud-aiplatform>=1.26->redisvl[all]->-r requirements.txt (line 1)) (1.16.0)\n",
      "Requirement already satisfied: setuptools>=40.3.0 in /Users/tyler.hutcherson/miniconda3/lib/python3.9/site-packages (from google-auth<3.0dev,>=1.25.0->google-api-core[grpc]!=2.0.*,!=2.1.*,!=2.2.*,!=2.3.*,!=2.4.*,!=2.5.*,!=2.6.*,!=2.7.*,<3.0.0dev,>=1.32.0->google-cloud-aiplatform>=1.26->redisvl[all]->-r requirements.txt (line 1)) (61.2.0)\n",
      "Requirement already satisfied: cachetools<5.0,>=2.0.0 in /Users/tyler.hutcherson/miniconda3/lib/python3.9/site-packages (from google-auth<3.0dev,>=1.25.0->google-api-core[grpc]!=2.0.*,!=2.1.*,!=2.2.*,!=2.3.*,!=2.4.*,!=2.5.*,!=2.6.*,!=2.7.*,<3.0.0dev,>=1.32.0->google-cloud-aiplatform>=1.26->redisvl[all]->-r requirements.txt (line 1)) (4.2.4)\n",
      "Requirement already satisfied: pyasn1-modules>=0.2.1 in /Users/tyler.hutcherson/miniconda3/lib/python3.9/site-packages (from google-auth<3.0dev,>=1.25.0->google-api-core[grpc]!=2.0.*,!=2.1.*,!=2.2.*,!=2.3.*,!=2.4.*,!=2.5.*,!=2.6.*,!=2.7.*,<3.0.0dev,>=1.32.0->google-cloud-aiplatform>=1.26->redisvl[all]->-r requirements.txt (line 1)) (0.2.8)\n",
      "Requirement already satisfied: rsa<5,>=3.1.4 in /Users/tyler.hutcherson/miniconda3/lib/python3.9/site-packages (from google-auth<3.0dev,>=1.25.0->google-api-core[grpc]!=2.0.*,!=2.1.*,!=2.2.*,!=2.3.*,!=2.4.*,!=2.5.*,!=2.6.*,!=2.7.*,<3.0.0dev,>=1.32.0->google-cloud-aiplatform>=1.26->redisvl[all]->-r requirements.txt (line 1)) (4.9)\n",
      "Requirement already satisfied: google-cloud-core<3.0.0dev,>=1.4.1 in /Users/tyler.hutcherson/miniconda3/lib/python3.9/site-packages (from google-cloud-bigquery<4.0.0dev,>=1.15.0->google-cloud-aiplatform>=1.26->redisvl[all]->-r requirements.txt (line 1)) (1.7.3)\n",
      "Requirement already satisfied: google-resumable-media<3.0dev,>=0.6.0 in /Users/tyler.hutcherson/miniconda3/lib/python3.9/site-packages (from google-cloud-bigquery<4.0.0dev,>=1.15.0->google-cloud-aiplatform>=1.26->redisvl[all]->-r requirements.txt (line 1)) (1.3.3)\n",
      "Requirement already satisfied: grpc-google-iam-v1<1.0.0dev,>=0.12.4 in /Users/tyler.hutcherson/miniconda3/lib/python3.9/site-packages (from google-cloud-resource-manager<3.0.0dev,>=1.3.3->google-cloud-aiplatform>=1.26->redisvl[all]->-r requirements.txt (line 1)) (0.12.6)\n",
      "Requirement already satisfied: google-crc32c<2.0dev,>=1.0 in /Users/tyler.hutcherson/miniconda3/lib/python3.9/site-packages (from google-resumable-media<3.0dev,>=0.6.0->google-cloud-bigquery<4.0.0dev,>=1.15.0->google-cloud-aiplatform>=1.26->redisvl[all]->-r requirements.txt (line 1)) (1.5.0)\n",
      "Requirement already satisfied: zipp>=0.5 in /Users/tyler.hutcherson/miniconda3/lib/python3.9/site-packages (from importlib-metadata>=3.6->jupyterhub->-r requirements.txt (line 2)) (3.10.0)\n",
      "Requirement already satisfied: pickleshare in /Users/tyler.hutcherson/miniconda3/lib/python3.9/site-packages (from ipython>=7.23.1->ipykernel->-r requirements.txt (line 3)) (0.7.5)\n",
      "Requirement already satisfied: backcall in /Users/tyler.hutcherson/miniconda3/lib/python3.9/site-packages (from ipython>=7.23.1->ipykernel->-r requirements.txt (line 3)) (0.2.0)\n",
      "Requirement already satisfied: decorator in /Users/tyler.hutcherson/miniconda3/lib/python3.9/site-packages (from ipython>=7.23.1->ipykernel->-r requirements.txt (line 3)) (5.1.1)\n",
      "Requirement already satisfied: prompt-toolkit!=3.0.0,!=3.0.1,<3.1.0,>=2.0.0 in /Users/tyler.hutcherson/miniconda3/lib/python3.9/site-packages (from ipython>=7.23.1->ipykernel->-r requirements.txt (line 3)) (3.0.31)\n",
      "Requirement already satisfied: jedi>=0.16 in /Users/tyler.hutcherson/miniconda3/lib/python3.9/site-packages (from ipython>=7.23.1->ipykernel->-r requirements.txt (line 3)) (0.18.1)\n",
      "Requirement already satisfied: pexpect>4.3 in /Users/tyler.hutcherson/miniconda3/lib/python3.9/site-packages (from ipython>=7.23.1->ipykernel->-r requirements.txt (line 3)) (4.8.0)\n",
      "Requirement already satisfied: pygments in /Users/tyler.hutcherson/miniconda3/lib/python3.9/site-packages (from ipython>=7.23.1->ipykernel->-r requirements.txt (line 3)) (2.16.1)\n",
      "Requirement already satisfied: parso<0.9.0,>=0.8.0 in /Users/tyler.hutcherson/miniconda3/lib/python3.9/site-packages (from jedi>=0.16->ipython>=7.23.1->ipykernel->-r requirements.txt (line 3)) (0.8.3)\n",
      "Requirement already satisfied: MarkupSafe>=2.0 in /Users/tyler.hutcherson/miniconda3/lib/python3.9/site-packages (from jinja2>=2.11.0->jupyterhub->-r requirements.txt (line 2)) (2.1.1)\n",
      "Requirement already satisfied: entrypoints in /Users/tyler.hutcherson/miniconda3/lib/python3.9/site-packages (from jupyter-client>=6.1.12->ipykernel->-r requirements.txt (line 3)) (0.4)\n",
      "Requirement already satisfied: jupyter-core>=4.6.0 in /Users/tyler.hutcherson/miniconda3/lib/python3.9/site-packages (from jupyter-client>=6.1.12->ipykernel->-r requirements.txt (line 3)) (5.3.1)\n",
      "Requirement already satisfied: platformdirs>=2.5 in /Users/tyler.hutcherson/miniconda3/lib/python3.9/site-packages (from jupyter-core>=4.6.0->jupyter-client>=6.1.12->ipykernel->-r requirements.txt (line 3)) (2.5.3)\n",
      "Requirement already satisfied: jsonschema in /Users/tyler.hutcherson/miniconda3/lib/python3.9/site-packages (from jupyter-telemetry>=0.1.0->jupyterhub->-r requirements.txt (line 2)) (4.16.0)\n",
      "Requirement already satisfied: python-json-logger in /Users/tyler.hutcherson/miniconda3/lib/python3.9/site-packages (from jupyter-telemetry>=0.1.0->jupyterhub->-r requirements.txt (line 2)) (2.0.7)\n",
      "Requirement already satisfied: ruamel.yaml in /Users/tyler.hutcherson/miniconda3/lib/python3.9/site-packages (from jupyter-telemetry>=0.1.0->jupyterhub->-r requirements.txt (line 2)) (0.17.21)\n",
      "Requirement already satisfied: tqdm in /Users/tyler.hutcherson/miniconda3/lib/python3.9/site-packages (from openai>=0.26.4->redisvl[all]->-r requirements.txt (line 1)) (4.63.0)\n",
      "Requirement already satisfied: aiohttp in /Users/tyler.hutcherson/miniconda3/lib/python3.9/site-packages (from openai>=0.26.4->redisvl[all]->-r requirements.txt (line 1)) (3.8.3)\n",
      "Requirement already satisfied: pyparsing!=3.0.5,>=2.0.2 in /Users/tyler.hutcherson/miniconda3/lib/python3.9/site-packages (from packaging->jupyterhub->-r requirements.txt (line 2)) (3.0.9)\n",
      "Requirement already satisfied: ptyprocess>=0.5 in /Users/tyler.hutcherson/miniconda3/lib/python3.9/site-packages (from pexpect>4.3->ipython>=7.23.1->ipykernel->-r requirements.txt (line 3)) (0.7.0)\n",
      "Requirement already satisfied: wcwidth in /Users/tyler.hutcherson/miniconda3/lib/python3.9/site-packages (from prompt-toolkit!=3.0.0,!=3.0.1,<3.1.0,>=2.0.0->ipython>=7.23.1->ipykernel->-r requirements.txt (line 3)) (0.2.5)\n",
      "Requirement already satisfied: pyasn1<0.5.0,>=0.4.6 in /Users/tyler.hutcherson/miniconda3/lib/python3.9/site-packages (from pyasn1-modules>=0.2.1->google-auth<3.0dev,>=1.25.0->google-api-core[grpc]!=2.0.*,!=2.1.*,!=2.2.*,!=2.3.*,!=2.4.*,!=2.5.*,!=2.6.*,!=2.7.*,<3.0.0dev,>=1.32.0->google-cloud-aiplatform>=1.26->redisvl[all]->-r requirements.txt (line 1)) (0.4.8)\n",
      "Requirement already satisfied: typing-extensions>=4.2.0 in /Users/tyler.hutcherson/miniconda3/lib/python3.9/site-packages (from pydantic<2.0.0->redisvl[all]->-r requirements.txt (line 1)) (4.7.1)\n",
      "Requirement already satisfied: async-timeout>=4.0.2 in /Users/tyler.hutcherson/miniconda3/lib/python3.9/site-packages (from redis>=4.3.4->redisvl[all]->-r requirements.txt (line 1)) (4.0.2)\n",
      "Requirement already satisfied: certifi>=2017.4.17 in /Users/tyler.hutcherson/miniconda3/lib/python3.9/site-packages (from requests->jupyterhub->-r requirements.txt (line 2)) (2022.9.24)\n",
      "Requirement already satisfied: idna<4,>=2.5 in /Users/tyler.hutcherson/miniconda3/lib/python3.9/site-packages (from requests->jupyterhub->-r requirements.txt (line 2)) (3.3)\n",
      "Requirement already satisfied: charset-normalizer<3,>=2 in /Users/tyler.hutcherson/miniconda3/lib/python3.9/site-packages (from requests->jupyterhub->-r requirements.txt (line 2)) (2.0.4)\n",
      "Requirement already satisfied: urllib3<1.27,>=1.21.1 in /Users/tyler.hutcherson/miniconda3/lib/python3.9/site-packages (from requests->jupyterhub->-r requirements.txt (line 2)) (1.26.8)\n",
      "Requirement already satisfied: scikit-learn in /Users/tyler.hutcherson/miniconda3/lib/python3.9/site-packages (from sentence-transformers>=2.2.2->redisvl[all]->-r requirements.txt (line 1)) (1.1.2)\n",
      "Requirement already satisfied: huggingface-hub>=0.4.0 in /Users/tyler.hutcherson/miniconda3/lib/python3.9/site-packages (from sentence-transformers>=2.2.2->redisvl[all]->-r requirements.txt (line 1)) (0.10.1)\n",
      "Requirement already satisfied: sentencepiece in /Users/tyler.hutcherson/miniconda3/lib/python3.9/site-packages (from sentence-transformers>=2.2.2->redisvl[all]->-r requirements.txt (line 1)) (0.1.97)\n",
      "Requirement already satisfied: torch>=1.6.0 in /Users/tyler.hutcherson/miniconda3/lib/python3.9/site-packages (from sentence-transformers>=2.2.2->redisvl[all]->-r requirements.txt (line 1)) (1.12.1)\n",
      "Requirement already satisfied: transformers<5.0.0,>=4.6.0 in /Users/tyler.hutcherson/miniconda3/lib/python3.9/site-packages (from sentence-transformers>=2.2.2->redisvl[all]->-r requirements.txt (line 1)) (4.23.1)\n",
      "Requirement already satisfied: torchvision in /Users/tyler.hutcherson/miniconda3/lib/python3.9/site-packages (from sentence-transformers>=2.2.2->redisvl[all]->-r requirements.txt (line 1)) (0.13.1)\n",
      "Requirement already satisfied: scipy in /Users/tyler.hutcherson/miniconda3/lib/python3.9/site-packages (from sentence-transformers>=2.2.2->redisvl[all]->-r requirements.txt (line 1)) (1.9.1)\n",
      "Requirement already satisfied: nltk in /Users/tyler.hutcherson/miniconda3/lib/python3.9/site-packages (from sentence-transformers>=2.2.2->redisvl[all]->-r requirements.txt (line 1)) (3.7)\n",
      "Requirement already satisfied: filelock in /Users/tyler.hutcherson/miniconda3/lib/python3.9/site-packages (from huggingface-hub>=0.4.0->sentence-transformers>=2.2.2->redisvl[all]->-r requirements.txt (line 1)) (3.8.0)\n",
      "Requirement already satisfied: greenlet!=0.4.17 in /Users/tyler.hutcherson/miniconda3/lib/python3.9/site-packages (from SQLAlchemy>=1.4->jupyterhub->-r requirements.txt (line 2)) (1.1.3.post0)\n",
      "Requirement already satisfied: regex!=2019.12.17 in /Users/tyler.hutcherson/miniconda3/lib/python3.9/site-packages (from transformers<5.0.0,>=4.6.0->sentence-transformers>=2.2.2->redisvl[all]->-r requirements.txt (line 1)) (2022.9.13)\n",
      "Requirement already satisfied: tokenizers!=0.11.3,<0.14,>=0.11.1 in /Users/tyler.hutcherson/miniconda3/lib/python3.9/site-packages (from transformers<5.0.0,>=4.6.0->sentence-transformers>=2.2.2->redisvl[all]->-r requirements.txt (line 1)) (0.13.1)\n",
      "Requirement already satisfied: multidict<7.0,>=4.5 in /Users/tyler.hutcherson/miniconda3/lib/python3.9/site-packages (from aiohttp->openai>=0.26.4->redisvl[all]->-r requirements.txt (line 1)) (6.0.4)\n",
      "Requirement already satisfied: frozenlist>=1.1.1 in /Users/tyler.hutcherson/miniconda3/lib/python3.9/site-packages (from aiohttp->openai>=0.26.4->redisvl[all]->-r requirements.txt (line 1)) (1.3.3)\n",
      "Requirement already satisfied: aiosignal>=1.1.2 in /Users/tyler.hutcherson/miniconda3/lib/python3.9/site-packages (from aiohttp->openai>=0.26.4->redisvl[all]->-r requirements.txt (line 1)) (1.3.1)\n",
      "Requirement already satisfied: attrs>=17.3.0 in /Users/tyler.hutcherson/miniconda3/lib/python3.9/site-packages (from aiohttp->openai>=0.26.4->redisvl[all]->-r requirements.txt (line 1)) (22.1.0)\n",
      "Requirement already satisfied: yarl<2.0,>=1.0 in /Users/tyler.hutcherson/miniconda3/lib/python3.9/site-packages (from aiohttp->openai>=0.26.4->redisvl[all]->-r requirements.txt (line 1)) (1.8.2)\n",
      "Requirement already satisfied: humanfriendly>=9.1 in /Users/tyler.hutcherson/miniconda3/lib/python3.9/site-packages (from coloredlogs->redisvl[all]->-r requirements.txt (line 1)) (10.0)\n",
      "Requirement already satisfied: pyrsistent!=0.17.0,!=0.17.1,!=0.17.2,>=0.14.0 in /Users/tyler.hutcherson/miniconda3/lib/python3.9/site-packages (from jsonschema->jupyter-telemetry>=0.1.0->jupyterhub->-r requirements.txt (line 2)) (0.18.1)\n",
      "Requirement already satisfied: click in /Users/tyler.hutcherson/miniconda3/lib/python3.9/site-packages (from nltk->sentence-transformers>=2.2.2->redisvl[all]->-r requirements.txt (line 1)) (8.0.1)\n",
      "Requirement already satisfied: joblib in /Users/tyler.hutcherson/miniconda3/lib/python3.9/site-packages (from nltk->sentence-transformers>=2.2.2->redisvl[all]->-r requirements.txt (line 1)) (1.2.0)\n",
      "Requirement already satisfied: cryptography>=35.0 in /Users/tyler.hutcherson/miniconda3/lib/python3.9/site-packages (from pyopenssl->certipy>=0.1.2->jupyterhub->-r requirements.txt (line 2)) (36.0.0)\n",
      "Requirement already satisfied: cffi>=1.12 in /Users/tyler.hutcherson/miniconda3/lib/python3.9/site-packages (from cryptography>=35.0->pyopenssl->certipy>=0.1.2->jupyterhub->-r requirements.txt (line 2)) (1.15.0)\n",
      "Requirement already satisfied: pycparser in /Users/tyler.hutcherson/miniconda3/lib/python3.9/site-packages (from cffi>=1.12->cryptography>=35.0->pyopenssl->certipy>=0.1.2->jupyterhub->-r requirements.txt (line 2)) (2.21)\n",
      "Requirement already satisfied: ruamel.yaml.clib>=0.2.6 in /Users/tyler.hutcherson/miniconda3/lib/python3.9/site-packages (from ruamel.yaml->jupyter-telemetry>=0.1.0->jupyterhub->-r requirements.txt (line 2)) (0.2.6)\n",
      "Requirement already satisfied: threadpoolctl>=2.0.0 in /Users/tyler.hutcherson/miniconda3/lib/python3.9/site-packages (from scikit-learn->sentence-transformers>=2.2.2->redisvl[all]->-r requirements.txt (line 1)) (3.1.0)\n",
      "Requirement already satisfied: pillow!=8.3.*,>=5.3.0 in /Users/tyler.hutcherson/miniconda3/lib/python3.9/site-packages (from torchvision->sentence-transformers>=2.2.2->redisvl[all]->-r requirements.txt (line 1)) (9.2.0)\n"
     ]
    }
   ],
   "source": [
    "!pip install -r requirements.txt"
   ]
  },
  {
   "cell_type": "markdown",
   "metadata": {},
   "source": [
    "# Vector Similarity Measures Using NumPy\n",
    "\n",
    "In this tutorial, we'll explore how to compute various measures of vector similarity using only NumPy. Understanding vector similarities is crucial in various ML tasks, including recommender systems, clustering, and information retrieval. We'll focus on three common metrics: cosine distance, euclidean distance, and inner product distance.\n",
    "\n",
    "## Setup\n",
    "\n",
    "Before we begin, let's import the NumPy library. Make sure you have it installed in your Python environment, or you can install it using pip:\n"
   ]
  },
  {
   "cell_type": "code",
   "execution_count": 4,
   "metadata": {},
   "outputs": [
    {
     "ename": "ModuleNotFoundError",
     "evalue": "No module named 'numpy'",
     "output_type": "error",
     "traceback": [
      "\u001b[0;31m---------------------------------------------------------------------------\u001b[0m",
      "\u001b[0;31mModuleNotFoundError\u001b[0m                       Traceback (most recent call last)",
      "\u001b[1;32m/Users/tyler.hutcherson/Documents/RedisVentures/LLM-VectorDB-Bootcamp/getting_started_01.ipynb Cell 5\u001b[0m line \u001b[0;36m1\n\u001b[0;32m----> <a href='vscode-notebook-cell:/Users/tyler.hutcherson/Documents/RedisVentures/LLM-VectorDB-Bootcamp/getting_started_01.ipynb#X35sZmlsZQ%3D%3D?line=0'>1</a>\u001b[0m \u001b[39mimport\u001b[39;00m \u001b[39mnumpy\u001b[39;00m \u001b[39mas\u001b[39;00m \u001b[39mnp\u001b[39;00m\n",
      "\u001b[0;31mModuleNotFoundError\u001b[0m: No module named 'numpy'"
     ]
    }
   ],
   "source": [
    "import numpy as np"
   ]
  },
  {
   "cell_type": "markdown",
   "metadata": {},
   "source": [
    "## Creating Dummy Vectors\n",
    "\n",
    "We will create two dummy vectors (1D NumPy arrays) for this illustration. These vectors could represent, for example, user profiles, product characteristics, or text embeddings.\n"
   ]
  },
  {
   "cell_type": "code",
   "execution_count": null,
   "metadata": {},
   "outputs": [],
   "source": [
    "# Initialize two arrays\n",
    "vector_a = np.array([1, 2, 3, 4, 5])\n",
    "vector_b = np.array([6, 7, 8, 9, 10])\n",
    "\n",
    "# Printing the vectors\n",
    "print(\"Vector A:\", vector_a)\n",
    "print(\"Vector B:\", vector_b)\n"
   ]
  },
  {
   "cell_type": "markdown",
   "metadata": {},
   "source": [
    "## 1. Cosine Distance\n",
    "\n",
    "Cosine distance (or cosine similarity) measures the cosine of the angle between two non-zero vectors. The cosine of 0° is 1, and it is less for any other angle, making two vectors more similar if their direction is the same. It is widely used in text analysis to measure the similarity between documents."
   ]
  },
  {
   "cell_type": "code",
   "execution_count": null,
   "metadata": {},
   "outputs": [],
   "source": [
    "def cosine_distance(vector_a, vector_b):\n",
    "    # Dot product of A and B\n",
    "    dot_product = np.dot(vector_a, vector_b)\n",
    "    # Magnitude (norm) of A and B\n",
    "    norm_a = np.linalg.norm(vector_a)\n",
    "    norm_b = np.linalg.norm(vector_b)\n",
    "    # Cosine similarity\n",
    "    similarity = dot_product / (norm_a * norm_b)\n",
    "    return 1 - similarity\n",
    "\n",
    "# Calculate cosine similarity\n",
    "cosine_sim = cosine_distance(vector_a, vector_b)\n",
    "print(\"Cosine Distance:\", cosine_sim)\n"
   ]
  },
  {
   "cell_type": "markdown",
   "metadata": {},
   "source": [
    "## 2. Euclidean Distance\n",
    "\n",
    "Euclidean distance is the \"ordinary\" straight-line distance between two points in Euclidean space. With this distance, Euclidean space becomes a metric space. It is used in various fields as a measure of spatial distance between two data points.\n"
   ]
  },
  {
   "cell_type": "code",
   "execution_count": null,
   "metadata": {},
   "outputs": [],
   "source": [
    "def euclidean_distance(vector_a, vector_b):\n",
    "    # Difference between A and B\n",
    "    diff = vector_a - vector_b\n",
    "    # Squaring the difference\n",
    "    sq_diff = np.square(diff)\n",
    "    # Summing the squared differences\n",
    "    sum_sq_diff = np.sum(sq_diff)\n",
    "    # Square root of the sum\n",
    "    distance = np.sqrt(sum_sq_diff)\n",
    "    return distance\n",
    "\n",
    "# Calculate Euclidean distance\n",
    "euclidean_dist = euclidean_distance(vector_a, vector_b)\n",
    "print(\"Euclidean Distance:\", euclidean_dist)\n"
   ]
  },
  {
   "cell_type": "markdown",
   "metadata": {},
   "source": [
    "## 3. Inner Product Distance\n",
    "\n",
    "The inner product distance is a measure of similarity between two vectors, based on the product of their individual elements. It's related to several other similarity measures, including cosine similarity (which normalizes the inner product by the magnitudes of the vectors).\n"
   ]
  },
  {
   "cell_type": "code",
   "execution_count": null,
   "metadata": {},
   "outputs": [],
   "source": [
    "def inner_product_distance(vector_a, vector_b):\n",
    "    # Inner product (dot product) of A and B\n",
    "    distance = 1 - np.dot(vector_a, vector_b)\n",
    "    return distance\n",
    "\n",
    "# Calculate inner product distance\n",
    "inner_product_dist = inner_product_distance(vector_a, vector_b)\n",
    "print(\"Inner Product Distance:\", inner_product_dist)\n"
   ]
  },
  {
   "cell_type": "markdown",
   "metadata": {},
   "source": [
    "### How to choose?\n",
    "Many factors to consider, but here are a few thoughts:\n",
    "\n",
    "**Cosine Distance:**\n",
    "\n",
    "- Ideal for high-dimensional or sparse data.\n",
    "- Focuses on the angle between vectors, not the magnitude.\n",
    "- Common in text analysis (NLP) and recommendation systems where directionality matters more than absolute quantities.\n",
    "\n",
    "**Euclidean Distance:**\n",
    "\n",
    "- Measures actual distance between points, effective in physical spaces.\n",
    "- Suitable for lower-dimensional data with consistent scale across dimensions.\n",
    "- Preferred in healthcare, geography, and scenarios where true distances are relevant.\n",
    "\n",
    "**Inner Product Distance:**\n",
    "\n",
    "- Considers the magnitude of vectors, providing an absolute measure.\n",
    "- Useful in non-normalized spaces or when quantifying the strength of similarity or preference.\n",
    "- Often applied in recommendation systems and scenarios where it's important to measure the degree of preference explicitly.\n",
    "\n",
    "#### Quick Hits\n",
    "\n",
    "- Cosine Distance for direction-focused and magnitude-agnostic comparisons, often in high-dimensional spaces.\n",
    "- Euclidean Distance for actual distances in low-dimensional, consistent-scale scenarios.\n",
    "- Inner Product for absolute similarity measures, especially in systems quantifying preference or relevance."
   ]
  },
  {
   "attachments": {},
   "cell_type": "markdown",
   "metadata": {},
   "source": [
    "## Let's try this for real..\n",
    "\n",
    "For this example, we will use the following overly simplified dataset\n"
   ]
  },
  {
   "cell_type": "code",
   "execution_count": 1,
   "metadata": {},
   "outputs": [],
   "source": [
    "import os\n",
    "from jupyterutils import table_print\n",
    "\n",
    "\n",
    "# set redis address\n",
    "username = \"default\"\n",
    "host = \"<enter your redis host here>\"\n",
    "port = \"<enter your redis port here>\"\n",
    "password = \"<enter your redis password here>\"\n",
    "\n",
    "\n",
    "REDIS_URL = f\"redis://{username}:{password}@{host}:{port}\"\n",
    "os.environ[\"REDIS_URL\"] = REDIS_URL"
   ]
  },
  {
   "cell_type": "code",
   "execution_count": 2,
   "metadata": {},
   "outputs": [],
   "source": [
    "\n",
    "data = [\n",
    "    {'user': 'john', 'age': 1, 'job': 'engineer', 'credit_score': 'high'},\n",
    "    {'user': 'mary', 'age': 2, 'job': 'doctor', 'credit_score': 'low'},\n",
    "    {'user': 'joe', 'age': 3, 'job': 'dentist', 'credit_score': 'medium'}\n",
    "]"
   ]
  },
  {
   "attachments": {},
   "cell_type": "markdown",
   "metadata": {},
   "source": [
    "This will make up 3 entries in Redis (hashes) each with 4 sub-keys (users, age, job, credit_score).\n",
    "\n",
    "Now, we want to add vectors to represent each user. These are just dummy vectors to illustrate the point, but more complex vectors can be created and used as well. For more information on creating embeddings, see this [article](https://mlops.community/vector-similarity-search-from-basics-to-production/).\n",
    "\n",
    "As seen below, the sample vectors need to be turned into bytes before they can be loaded into Redis. Using ``NumPy``, this is fairly trivial."
   ]
  },
  {
   "cell_type": "code",
   "execution_count": 3,
   "metadata": {},
   "outputs": [
    {
     "data": {
      "text/html": [
       "<table><tr><th>user</th><th>age</th><th>job</th><th>credit_score</th><th>user_embedding</th></tr><tr><td>john</td><td>1</td><td>engineer</td><td>high</td><td>b'\\xcd\\xcc\\xcc=\\xcd\\xcc\\xcc=\\x00\\x00\\x00?'</td></tr><tr><td>mary</td><td>2</td><td>doctor</td><td>low</td><td>b'\\xcd\\xcc\\xcc=\\xcd\\xcc\\xcc=\\x00\\x00\\x00?'</td></tr><tr><td>joe</td><td>3</td><td>dentist</td><td>medium</td><td>b'fff?fff?\\xcd\\xcc\\xcc='</td></tr></table>"
      ],
      "text/plain": [
       "<IPython.core.display.HTML object>"
      ]
     },
     "metadata": {},
     "output_type": "display_data"
    }
   ],
   "source": [
    "# converted to bytes for redis\n",
    "vectors = [\n",
    "    np.array([0.1, 0.1, 0.5], dtype=np.float32).tobytes(),\n",
    "    np.array([0.1, 0.1, 0.5], dtype=np.float32).tobytes(),\n",
    "    np.array([0.9, 0.9, 0.1], dtype=np.float32).tobytes(),\n",
    "]\n",
    "\n",
    "for record, vector in zip(data, vectors):\n",
    "    record[\"user_embedding\"] = vector\n",
    "\n",
    "table_print(data)"
   ]
  },
  {
   "attachments": {},
   "cell_type": "markdown",
   "metadata": {},
   "source": [
    "\n",
    "Our dataset is now ready to be used with ``redisvl``. The next step is to define the schema for the data."
   ]
  },
  {
   "attachments": {},
   "cell_type": "markdown",
   "metadata": {},
   "source": [
    "## Define Index Schema\n",
    "\n",
    "In order for ``redisvl`` to be flexible for many types of data, it uses a schema specified in either a python dictionary or a yaml file. There are a couple main components\n",
    "\n",
    "1. index specification\n",
    "2. field specification\n",
    "\n",
    "The index specification determines how data will be stored in Redis. This includes\n",
    "- ``name``: the name of the index\n",
    "- (Optional) ``prefix``: key prefix for each loaded entry\n",
    "\n",
    "The field specification determines what fields within the dataset will be available for queries. Each field corresponds to the name of a **column** within the dataset. The values within each specified column are arguments for the creation of that index that correspond directly to ``redis-py`` arguments.\n",
    "\n",
    "So for example, given the above dataset, the following schema can be used.\n",
    "\n",
    "\n",
    "```yaml\n",
    "\n",
    "index:\n",
    "  name: user_index\n",
    "  prefix: v1\n",
    "\n",
    "fields:\n",
    "    # define tag fields\n",
    "    tag:\n",
    "        - name: user\n",
    "        - name: credit_store\n",
    "    # define numeric fields\n",
    "    numeric:\n",
    "        - name: age\n",
    "    # define text fields\n",
    "    text:\n",
    "        - name: job\n",
    "    # define vector fields\n",
    "    vector:\n",
    "        - name: user_embedding\n",
    "          algorithm: hnsw\n",
    "          datatype: float32\n",
    "          dims: 3\n",
    "          distance_metric: cosine\n",
    "\n",
    "```\n",
    "\n",
    "In Python, this looks like the following as a dictionary:"
   ]
  },
  {
   "cell_type": "code",
   "execution_count": 4,
   "metadata": {},
   "outputs": [],
   "source": [
    "schema = {\n",
    "    \"index\": {\n",
    "        \"name\": \"user_index\",\n",
    "        \"prefix\": \"v1\",\n",
    "    },\n",
    "    \"fields\": {\n",
    "        \"tag\": [{\"name\": \"credit_score\"}],\n",
    "        \"text\": [{\"name\": \"job\"}],\n",
    "        \"numeric\": [{\"name\": \"age\"}],\n",
    "        \"vector\": [{\n",
    "                \"name\": \"user_embedding\",\n",
    "                \"dims\": 3,\n",
    "                \"distance_metric\": \"cosine\",\n",
    "                \"algorithm\": \"flat\",\n",
    "                \"datatype\": \"float32\"}\n",
    "        ]\n",
    "    },\n",
    "}\n"
   ]
  },
  {
   "attachments": {},
   "cell_type": "markdown",
   "metadata": {},
   "source": [
    "## Create a ``SearchIndex``\n",
    "\n",
    "With the data and the index schema defined, we can now use ``redisvl`` as a library to create a search index as follows.\n",
    "\n",
    "Note that at this point, the index will have no entries. With Redis, this is fine as new entries from this index (or that follow the schema) will automatically be indexed in the background in Redis."
   ]
  },
  {
   "cell_type": "code",
   "execution_count": 5,
   "metadata": {},
   "outputs": [],
   "source": [
    "from redisvl.index import SearchIndex\n",
    "\n",
    "# construct a search index from the schema\n",
    "index = SearchIndex.from_dict(schema) # or SearchIndex.from_yaml(\"schema.yaml\") for yaml files\n",
    "\n",
    "# connect to local redis instance\n",
    "index.connect(REDIS_URL)\n",
    "\n",
    "# create the index (no data yet)\n",
    "index.create(overwrite=True)"
   ]
  },
  {
   "cell_type": "code",
   "execution_count": 6,
   "metadata": {},
   "outputs": [
    {
     "name": "stdout",
     "output_type": "stream",
     "text": [
      "\u001b[32m01:26:16\u001b[0m \u001b[34m[RedisVL]\u001b[0m \u001b[1;30mINFO\u001b[0m   Using Redis address from environment variable, REDIS_URL\n",
      "\u001b[32m01:26:16\u001b[0m \u001b[34m[RedisVL]\u001b[0m \u001b[1;30mINFO\u001b[0m   Indices:\n",
      "\u001b[32m01:26:16\u001b[0m \u001b[34m[RedisVL]\u001b[0m \u001b[1;30mINFO\u001b[0m   1. user_index\n"
     ]
    }
   ],
   "source": [
    "# use the CLI to see the created index\n",
    "!rvl index listall"
   ]
  },
  {
   "cell_type": "code",
   "execution_count": 7,
   "metadata": {},
   "outputs": [
    {
     "name": "stdout",
     "output_type": "stream",
     "text": [
      "\u001b[32m01:26:17\u001b[0m \u001b[34m[RedisVL]\u001b[0m \u001b[1;30mINFO\u001b[0m   Using Redis address from environment variable, REDIS_URL\n",
      "\n",
      "\n",
      "Index Information:\n",
      "╭──────────────┬────────────────┬────────────┬─────────────────┬────────────╮\n",
      "│ Index Name   │ Storage Type   │ Prefixes   │ Index Options   │   Indexing │\n",
      "├──────────────┼────────────────┼────────────┼─────────────────┼────────────┤\n",
      "│ user_index   │ HASH           │ ['v1']     │ []              │          0 │\n",
      "╰──────────────┴────────────────┴────────────┴─────────────────┴────────────╯\n",
      "Index Fields:\n",
      "╭────────────────┬────────────────┬─────────┬────────────────┬────────────────╮\n",
      "│ Name           │ Attribute      │ Type    │ Field Option   │ Option Value   │\n",
      "├────────────────┼────────────────┼─────────┼────────────────┼────────────────┤\n",
      "│ credit_score   │ credit_score   │ TAG     │ SEPARATOR      │ ,              │\n",
      "│ job            │ job            │ TEXT    │ WEIGHT         │ 1              │\n",
      "│ age            │ age            │ NUMERIC │                │                │\n",
      "│ user_embedding │ user_embedding │ VECTOR  │                │                │\n",
      "╰────────────────┴────────────────┴─────────┴────────────────┴────────────────╯\n"
     ]
    }
   ],
   "source": [
    "# use the CLI to print fields in the index\n",
    "!rvl index info -i user_index"
   ]
  },
  {
   "cell_type": "markdown",
   "metadata": {},
   "source": [
    "## Load Data into the Index\n",
    "\n",
    "Now that an index exists, data can be loaded into redis through the ``SearchIndex.load()`` function"
   ]
  },
  {
   "cell_type": "code",
   "execution_count": 8,
   "metadata": {},
   "outputs": [],
   "source": [
    "# load expects an iterable of dictionaries\n",
    "index.load(data)"
   ]
  },
  {
   "attachments": {},
   "cell_type": "markdown",
   "metadata": {},
   "source": [
    "## Executing Queries\n",
    "\n",
    "Next we will run a vector query on our newly populated index. This example will use a simple vector to demonstrate how vector similarity works. Vectors in production will be much larger than 3 floats and often require Machine Learning models (i.e. Huggingface sentence transformers) or an embeddings API (Cohere, OpenAI) to create."
   ]
  },
  {
   "cell_type": "code",
   "execution_count": 9,
   "metadata": {},
   "outputs": [
    {
     "data": {
      "text/html": [
       "<table><tr><th>vector_distance</th><th>user</th><th>age</th><th>job</th><th>credit_score</th></tr><tr><td>0</td><td>john</td><td>1</td><td>engineer</td><td>high</td></tr><tr><td>0</td><td>mary</td><td>2</td><td>doctor</td><td>low</td></tr><tr><td>0.653301358223</td><td>joe</td><td>3</td><td>dentist</td><td>medium</td></tr></table>"
      ],
      "text/plain": [
       "<IPython.core.display.HTML object>"
      ]
     },
     "metadata": {},
     "output_type": "display_data"
    }
   ],
   "source": [
    "from redisvl.query import VectorQuery\n",
    "from jupyterutils import result_print\n",
    "\n",
    "# create a vector query returning a number of results\n",
    "# with specific fields to return.\n",
    "query = VectorQuery(\n",
    "    vector=[0.1, 0.1, 0.5],\n",
    "    vector_field_name=\"user_embedding\",\n",
    "    return_fields=[\"user\", \"age\", \"job\", \"credit_score\", \"vector_distance\"],\n",
    "    num_results=3\n",
    ")\n",
    "\n",
    "# use the SearchIndex instance (or Redis client) to execute the query\n",
    "results = index.query(query)\n",
    "result_print(results)"
   ]
  },
  {
   "cell_type": "markdown",
   "metadata": {},
   "source": [
    "## Connecting to an Existing Index\n",
    "\n",
    "If you have an existing index, you can connect to it using the ``SearchIndex.from_existing()`` function. This will return a ``SearchIndex`` object that can be used to execute queries.\n"
   ]
  },
  {
   "cell_type": "code",
   "execution_count": 10,
   "metadata": {},
   "outputs": [
    {
     "data": {
      "text/html": [
       "<table><tr><th>vector_distance</th><th>user</th><th>age</th><th>job</th><th>credit_score</th></tr><tr><td>0</td><td>john</td><td>1</td><td>engineer</td><td>high</td></tr><tr><td>0</td><td>mary</td><td>2</td><td>doctor</td><td>low</td></tr><tr><td>0.653301358223</td><td>joe</td><td>3</td><td>dentist</td><td>medium</td></tr></table>"
      ],
      "text/plain": [
       "<IPython.core.display.HTML object>"
      ]
     },
     "metadata": {},
     "output_type": "display_data"
    }
   ],
   "source": [
    "# create a new SearchIndex instance from an existing index\n",
    "existing_index = SearchIndex.from_existing(\"user_index\", REDIS_URL)\n",
    "\n",
    "# run the same query\n",
    "results = existing_index.query(query)\n",
    "result_print(results)"
   ]
  },
  {
   "cell_type": "markdown",
   "metadata": {},
   "source": [
    "## Asynchronous Search\n",
    "\n",
    "The AsyncSearchIndex class allows for queries, index creation, and data loading to be done asynchronously. This is useful for large datasets that may take a long time to load into Redis, for queries that may take a long time to execute, or for asynchronous applications that need to execute queries in the background like a FastAPI application."
   ]
  },
  {
   "cell_type": "code",
   "execution_count": 11,
   "metadata": {},
   "outputs": [
    {
     "data": {
      "text/html": [
       "<table><tr><th>vector_distance</th><th>user</th><th>age</th><th>job</th><th>credit_score</th></tr><tr><td>0</td><td>john</td><td>1</td><td>engineer</td><td>high</td></tr><tr><td>0</td><td>mary</td><td>2</td><td>doctor</td><td>low</td></tr><tr><td>0.653301358223</td><td>joe</td><td>3</td><td>dentist</td><td>medium</td></tr></table>"
      ],
      "text/plain": [
       "<IPython.core.display.HTML object>"
      ]
     },
     "metadata": {},
     "output_type": "display_data"
    }
   ],
   "source": [
    "## Asynchronous Search\n",
    "from redisvl.index import AsyncSearchIndex\n",
    "\n",
    "# construct a search index from the schema\n",
    "index = AsyncSearchIndex.from_dict(schema)\n",
    "\n",
    "# connect to local redis instance\n",
    "index.connect(\"redis://localhost:6379\")\n",
    "\n",
    "# create the index (no data yet)\n",
    "await index.create(overwrite=True)\n",
    "\n",
    "# load the data again but asynchronously\n",
    "await index.load(data)\n",
    "\n",
    "# run the same vector query but asynchronously\n",
    "results = await index.query(query)\n",
    "result_print(results)"
   ]
  },
  {
   "cell_type": "code",
   "execution_count": 12,
   "metadata": {},
   "outputs": [
    {
     "name": "stdout",
     "output_type": "stream",
     "text": [
      "\u001b[32m01:26:18\u001b[0m \u001b[34m[RedisVL]\u001b[0m \u001b[1;30mINFO\u001b[0m   Using Redis address from environment variable, REDIS_URL\n",
      "\n",
      "Statistics:\n",
      "╭─────────────────────────────┬─────────────╮\n",
      "│ Stat Key                    │ Value       │\n",
      "├─────────────────────────────┼─────────────┤\n",
      "│ num_docs                    │ 3           │\n",
      "│ num_terms                   │ 4           │\n",
      "│ max_doc_id                  │ 3           │\n",
      "│ num_records                 │ 13          │\n",
      "│ percent_indexed             │ 1           │\n",
      "│ hash_indexing_failures      │ 0           │\n",
      "│ number_of_uses              │ 8           │\n",
      "│ bytes_per_record_avg        │ 2.46154     │\n",
      "│ doc_table_size_mb           │ 0.000294685 │\n",
      "│ inverted_sz_mb              │ 3.05176e-05 │\n",
      "│ key_table_size_mb           │ 0.000110626 │\n",
      "│ offset_bits_per_record_avg  │ 8           │\n",
      "│ offset_vectors_sz_mb        │ 3.8147e-06  │\n",
      "│ offsets_per_term_avg        │ 0.307692    │\n",
      "│ records_per_doc_avg         │ 4.33333     │\n",
      "│ sortable_values_size_mb     │ 0           │\n",
      "│ total_indexing_time         │ 0.067       │\n",
      "│ total_inverted_index_blocks │ 8           │\n",
      "│ vector_index_sz_mb          │ 0.0201111   │\n",
      "╰─────────────────────────────┴─────────────╯\n"
     ]
    }
   ],
   "source": [
    "# We can also use the CLI to check the stats for the index we just used\n",
    "!rvl stats -i user_index"
   ]
  },
  {
   "cell_type": "code",
   "execution_count": 13,
   "metadata": {},
   "outputs": [],
   "source": [
    "# clean up the index\n",
    "await index.delete()"
   ]
  }
 ],
 "metadata": {
  "kernelspec": {
   "display_name": "Python 3.8.13 ('redisvl2')",
   "language": "python",
   "name": "python3"
  },
  "language_info": {
   "codemirror_mode": {
    "name": "ipython",
    "version": 3
   },
   "file_extension": ".py",
   "mimetype": "text/x-python",
   "name": "python",
   "nbconvert_exporter": "python",
   "pygments_lexer": "ipython3",
   "version": "3.11.4"
  },
  "orig_nbformat": 4,
  "vscode": {
   "interpreter": {
    "hash": "9b1e6e9c2967143209c2f955cb869d1d3234f92dc4787f49f155f3abbdfb1316"
   }
  }
 },
 "nbformat": 4,
 "nbformat_minor": 2
}
